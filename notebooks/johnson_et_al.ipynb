{
 "cells": [
  {
   "cell_type": "markdown",
   "source": [
    "# Measuring Production in the North Atlantic Ocean using BGC-Argo Oxygen Measurements\r\n",
    "\r\n",
    "This notebook will attempt to follow the work of Johnson and Bif (_in prep_, doi:) to calculate production in the North Atlantic Ocean by aggregating data from many BGC-Argo floats to analyze them as a single timeseries.\r\n",
    "\r\n",
    "The process can be summarized as:\r\n",
    "\r\n",
    "1. Collect all oxygen surface data (_P_ < 25dbar)\r\n",
    "2. Calculate the oxygen anomaly (observed oxygen - saturation concentration)\r\n",
    "3. Find the local time of day for that data (i.e. convert from UTC to local time)\r\n",
    "4. Filter data (as described below)\r\n",
    "\r\n",
    "A key piece to performing this analysis is that the floats are not only sampling at one time of day. In other words, if a float is on a 10-day cycle period and therefore always surfaces at the same time every 10 days (ex. always at roughly 6:00AM) then the analysis will not work as the data will be skewed. For this reason, Johnson and Bif introduced a selection criteria where the expected number of profiles for each hour was calculated (Nprof/24), and if the actual number of profiles for each hour exceeded the expected number by more than a factor of 3, the float was removed from the analysis. Additionally, any data points that exceeded 6 times the standard deviation of all anomaly data were removed to avoid large outliers.\r\n",
    "\r\n",
    "For our purposes, we will select data in the North Atlantic, that have oxygen sensors, and then perform the above filtering. We'll do this using the `argopy` package:\r\n"
   ],
   "metadata": {}
  },
  {
   "cell_type": "code",
   "execution_count": 1,
   "source": [
    "import argopy\r\n",
    "argopy.set_options(\r\n",
    "    mode='expert', src='localftp', dataset='bgc',\r\n",
    "    local_ftp='/Users/gordonc/Documents/data/Argo/'\r\n",
    ")"
   ],
   "outputs": [
    {
     "output_type": "execute_result",
     "data": {
      "text/plain": [
       "<argopy.options.set_options at 0x1acfb5b9bb0>"
      ]
     },
     "metadata": {},
     "execution_count": 1
    }
   ],
   "metadata": {}
  },
  {
   "cell_type": "markdown",
   "source": [
    "Now we define out North Atlantic region with a bounding box and get the profiles in that region:\r\n"
   ],
   "metadata": {}
  },
  {
   "cell_type": "code",
   "execution_count": 2,
   "source": [
    "nw_atlantic = [-62, -36, 52, 65]\r\n",
    "ix_fetcher = argopy.IndexFetcher(ds='bgc')\r\n",
    "nw_index = ix_fetcher.region(nw_atlantic).to_dataframe()"
   ],
   "outputs": [],
   "metadata": {}
  },
  {
   "cell_type": "markdown",
   "source": [
    "The `argopy` module doesn't handle the BGC index yet, so we'll do a workaround to get a list of  BGC floats:"
   ],
   "metadata": {}
  },
  {
   "cell_type": "code",
   "execution_count": 3,
   "source": [
    "import bgcArgoDMQC as bgc\r\n",
    "bgc_ix = bgc.get_index() # default is bgc index\r\n",
    "\r\n",
    "# get the floats in the region\r\n",
    "bgc_in_region = nw_index[nw_index.wmo.isin(bgc_ix.wmo)]\r\n",
    "# the bgc index in that region\r\n",
    "bgc_ix_in_region = bgc_ix[bgc_ix.wmo.isin(bgc_in_region.wmo)]\r\n",
    "# final index with just DOXY floats\r\n",
    "final_index = bgc_ix_in_region[['DOXY' in p for p in bgc_ix_in_region.parameters]].reset_index()"
   ],
   "outputs": [],
   "metadata": {}
  }
 ],
 "metadata": {
  "orig_nbformat": 4,
  "language_info": {
   "name": "python",
   "version": "3.8.5"
  },
  "kernelspec": {
   "name": "python3",
   "display_name": "Python 3.8.5 64-bit ('base': conda)"
  },
  "interpreter": {
   "hash": "b3ba2566441a7c06988d0923437866b63cedc61552a5af99d1f4fb67d367b25f"
  }
 },
 "nbformat": 4,
 "nbformat_minor": 2
}